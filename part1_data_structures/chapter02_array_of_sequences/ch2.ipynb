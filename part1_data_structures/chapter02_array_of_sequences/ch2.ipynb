{
 "cells": [
  {
   "cell_type": "markdown",
   "id": "1557202b",
   "metadata": {},
   "source": [
    "### An Array of Sequences\n"
   ]
  },
  {
   "cell_type": "code",
   "execution_count": 17,
   "id": "bef2d323",
   "metadata": {},
   "outputs": [
    {
     "name": "stdout",
     "output_type": "stream",
     "text": [
      "[36, 162, 163, 165, 8364, 164]\n"
     ]
    }
   ],
   "source": [
    "symbols = '$¢£¥€¤'\n",
    "codes = [ord(symbol) for symbol in symbols]\n",
    "print(codes)"
   ]
  },
  {
   "cell_type": "code",
   "execution_count": 18,
   "id": "fad57895",
   "metadata": {},
   "outputs": [
    {
     "name": "stdout",
     "output_type": "stream",
     "text": [
      "[162, 163, 165, 8364, 164]\n"
     ]
    }
   ],
   "source": [
    "symbols = '$¢£¥€¤'\n",
    "beyond_ascii = [ord(s) for s in symbols if ord(s) > 127]\n",
    "\n",
    "beyond_ascii = list(filter(lambda c: c > 127, map(ord,symbols)))\n",
    "print(beyond_ascii)"
   ]
  },
  {
   "cell_type": "code",
   "execution_count": 19,
   "id": "c0816e94",
   "metadata": {},
   "outputs": [
    {
     "name": "stdout",
     "output_type": "stream",
     "text": [
      "[('black', 'S'), ('black', 'M'), ('black', 'L'), ('white', 'S'), ('white', 'M'), ('white', 'L')]\n"
     ]
    }
   ],
   "source": [
    "colors = ['black', 'white']\n",
    "sizes = ['S', 'M', 'L']\n",
    "tshirts = [(color, size) for color in colors for size in sizes]\n",
    "print(tshirts)"
   ]
  },
  {
   "cell_type": "markdown",
   "id": "31a6caa3",
   "metadata": {},
   "source": [
    "### Generator Expression"
   ]
  },
  {
   "cell_type": "code",
   "execution_count": 20,
   "id": "e9a2da2b",
   "metadata": {},
   "outputs": [
    {
     "name": "stdout",
     "output_type": "stream",
     "text": [
      "<generator object <genexpr> at 0x0000015A4D538DD0>\n"
     ]
    }
   ],
   "source": [
    "t_shirts = (f'{c} {s}' for c in colors for s in sizes)\n",
    "print(t_shirts)"
   ]
  },
  {
   "cell_type": "code",
   "execution_count": 21,
   "id": "3b4e5c64",
   "metadata": {},
   "outputs": [
    {
     "name": "stdout",
     "output_type": "stream",
     "text": [
      "black S\n",
      "black M\n",
      "black L\n",
      "white S\n",
      "white M\n",
      "white L\n"
     ]
    }
   ],
   "source": [
    "colors = ['black', 'white']\n",
    "sizes = ['S', 'M', 'L']\n",
    "for tshirts in (f'{c} {s}' for c in colors for s in sizes):\n",
    "    print(tshirts)"
   ]
  },
  {
   "cell_type": "code",
   "execution_count": 22,
   "id": "b9bd2c7e",
   "metadata": {},
   "outputs": [
    {
     "name": "stdout",
     "output_type": "stream",
     "text": [
      "(1, 2, 3, 4, 5, 6)\n"
     ]
    }
   ],
   "source": [
    "t = (1, 2, 3)\n",
    "p = (4, 5, 6)\n",
    "t += p\n",
    "print(t)\n"
   ]
  },
  {
   "cell_type": "markdown",
   "id": "04decc2e",
   "metadata": {},
   "source": [
    "### Unpacking Sequence and Iterables"
   ]
  },
  {
   "cell_type": "code",
   "execution_count": 23,
   "id": "a24468cb",
   "metadata": {},
   "outputs": [
    {
     "name": "stdout",
     "output_type": "stream",
     "text": [
      "(2, 4)\n"
     ]
    }
   ],
   "source": [
    "a,b = (1,2)\n",
    "a , b = b , a  \n",
    "\n",
    "\n",
    "value = divmod(20,8)\n",
    "print(value)\n",
    "\n",
    "t = (20,8)\n",
    "quotient, reminder = divmod(*t)"
   ]
  },
  {
   "cell_type": "markdown",
   "id": "18dd233f",
   "metadata": {},
   "source": [
    "#### Unpacking with * in Function Calls and Sequence Literals"
   ]
  },
  {
   "cell_type": "code",
   "execution_count": 24,
   "id": "6c8aa787",
   "metadata": {},
   "outputs": [
    {
     "data": {
      "text/plain": [
       "(1, 2, 3, 4, (5, 6))"
      ]
     },
     "execution_count": 24,
     "metadata": {},
     "output_type": "execute_result"
    }
   ],
   "source": [
    "# Watch how * is used then you know if it packing or unpacking\n",
    "def fun(a, b, c, d , *rest):\n",
    "    return a, b, c, d, rest\n",
    "\n",
    "fun(*[1,2], 3, *range(4,7))"
   ]
  },
  {
   "cell_type": "code",
   "execution_count": 25,
   "id": "7b8de18b",
   "metadata": {},
   "outputs": [
    {
     "data": {
      "text/plain": [
       "set"
      ]
     },
     "execution_count": 25,
     "metadata": {},
     "output_type": "execute_result"
    }
   ],
   "source": [
    "m = {*range(4), 7}\n",
    "type(m)"
   ]
  },
  {
   "cell_type": "code",
   "execution_count": 26,
   "id": "7ce76303",
   "metadata": {},
   "outputs": [],
   "source": [
    "metro_areas = [\n",
    "    ('Tokyo', 'JP', 36.933, (35.689722, 139.691667)),\n",
    "    ('Delhi NCR', 'IN', 21.935, (28.613889, 77.208889)),\n",
    "    ('Mexico City', 'MX', 20.142, (19.433333,  -99.133333)),\n",
    "    ('New York-Newark', 'US', 20.104, (40.808611, -74.020386)),\n",
    "    ('Sao Paulo', 'BR', 19.649, (-23.547778, -46.635833)), ]\n",
    "\n",
    "def main():\n",
    "    print(f'{\"\":15} | {\"lat.\":9} | {\"long.\":9} | {\"area\":>6}')\n",
    "    for record in metro_areas:\n",
    "        match record:\n",
    "            case (name, _, area, (lat, long)) if area > 20:\n",
    "                print(f'{name:15} | {lat:9.4f} | {long:9.4f} | {area:6.1f}')"
   ]
  },
  {
   "cell_type": "code",
   "execution_count": null,
   "id": "310e55de",
   "metadata": {},
   "outputs": [],
   "source": []
  }
 ],
 "metadata": {
  "kernelspec": {
   "display_name": "Python 3",
   "language": "python",
   "name": "python3"
  },
  "language_info": {
   "codemirror_mode": {
    "name": "ipython",
    "version": 3
   },
   "file_extension": ".py",
   "mimetype": "text/x-python",
   "name": "python",
   "nbconvert_exporter": "python",
   "pygments_lexer": "ipython3",
   "version": "3.10.7"
  }
 },
 "nbformat": 4,
 "nbformat_minor": 5
}
