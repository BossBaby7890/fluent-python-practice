{
 "cells": [
  {
   "cell_type": "markdown",
   "id": "ece6e389",
   "metadata": {},
   "source": [
    "#### Just a brief of Functions and Decorators"
   ]
  },
  {
   "cell_type": "code",
   "execution_count": null,
   "id": "dc3fd524",
   "metadata": {},
   "outputs": [
    {
     "name": "stdout",
     "output_type": "stream",
     "text": [
      "Call me Liam\n"
     ]
    }
   ],
   "source": [
    "def parent(num):\n",
    "    def first_child():\n",
    "        return \"Call me Liam\"\n",
    "\n",
    "    def second_child():\n",
    "        return \"Call me Noel\"\n",
    "    \n",
    "    if num == 1:\n",
    "        return first_child \n",
    "    else:\n",
    "        return second_child\n",
    "\n",
    "parent(1)   \n",
    "\n"
   ]
  },
  {
   "cell_type": "code",
   "execution_count": null,
   "id": "a36e393b",
   "metadata": {},
   "outputs": [
    {
     "name": "stdout",
     "output_type": "stream",
     "text": [
      "Before calling the function\n",
      "Hello!\n",
      "After calling the function\n"
     ]
    }
   ],
   "source": [
    "def decorator(func):\n",
    "    def w():\n",
    "        print(\"Before calling the function\")\n",
    "        func()\n",
    "        print(\"After calling the function\")\n",
    "    return polygon\n",
    "@decorator\n",
    "def say_hello():\n",
    "    print(\"Hello!\")\n",
    "\n",
    "say_hello = say_hello()\n",
    "say_hello"
   ]
  },
  {
   "cell_type": "code",
   "execution_count": 18,
   "id": "fac1981f",
   "metadata": {},
   "outputs": [
    {
     "name": "stdout",
     "output_type": "stream",
     "text": [
      "Whee!\n"
     ]
    }
   ],
   "source": [
    "from datetime import datetime\n",
    "\n",
    "def not_during_the_night(func):\n",
    "    def wrapper():\n",
    "        if 7 <= datetime.now().hour < 22:\n",
    "            func()\n",
    "        else:\n",
    "            pass  # Hush, the neighbors are asleep\n",
    "    return wrapper\n",
    "\n",
    "@not_during_the_night\n",
    "def say_whee():\n",
    "    print(\"Whee!\")\n",
    "\n",
    "say_whe = say_whee\n",
    "\n",
    "say_whe()"
   ]
  },
  {
   "cell_type": "code",
   "execution_count": 28,
   "id": "12d60b94",
   "metadata": {},
   "outputs": [
    {
     "name": "stdout",
     "output_type": "stream",
     "text": [
      "Creating greeting\n",
      "Creating greeting\n",
      "hello\n",
      "hello\n"
     ]
    }
   ],
   "source": [
    "def do_twice(func):\n",
    "    def wrapper(*args, **kwargs):\n",
    "        func(*args, **kwargs)\n",
    "        return func(*args, **kwargs)\n",
    "    return wrapper\n",
    "\n",
    "@do_twice\n",
    "def greet():\n",
    "    print('hello')\n",
    "\n",
    "@do_twice\n",
    "def meet(name):\n",
    "    print(f\"Creating greeting\")\n",
    "    return f\"Hello {name}\"\n",
    "\n",
    "meet('John')\n",
    "\n",
    "greet()\n",
    "    "
   ]
  },
  {
   "cell_type": "code",
   "execution_count": null,
   "id": "74eaa112",
   "metadata": {},
   "outputs": [],
   "source": []
  }
 ],
 "metadata": {
  "kernelspec": {
   "display_name": "Python 3",
   "language": "python",
   "name": "python3"
  },
  "language_info": {
   "codemirror_mode": {
    "name": "ipython",
    "version": 3
   },
   "file_extension": ".py",
   "mimetype": "text/x-python",
   "name": "python",
   "nbconvert_exporter": "python",
   "pygments_lexer": "ipython3",
   "version": "3.10.7"
  }
 },
 "nbformat": 4,
 "nbformat_minor": 5
}
