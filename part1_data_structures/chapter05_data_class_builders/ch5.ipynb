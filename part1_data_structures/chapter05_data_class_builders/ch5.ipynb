{
 "cells": [
  {
   "cell_type": "markdown",
   "id": "ece6e389",
   "metadata": {},
   "source": [
    "#### Just a brief of Functions and Decorators"
   ]
  },
  {
   "cell_type": "code",
   "execution_count": null,
   "id": "dc3fd524",
   "metadata": {},
   "outputs": [
    {
     "name": "stdout",
     "output_type": "stream",
     "text": [
      "Call me Liam\n"
     ]
    }
   ],
   "source": [
    "def parent(num):\n",
    "    def first_child():\n",
    "        return \"Call me Liam\"\n",
    "\n",
    "    def second_child():\n",
    "        return \"Call me Noel\"\n",
    "    \n",
    "    if num == 1:\n",
    "        return first_child \n",
    "    else:\n",
    "        return second_child\n",
    "\n",
    "parent(1)   \n",
    "\n"
   ]
  },
  {
   "cell_type": "code",
   "execution_count": null,
   "id": "a36e393b",
   "metadata": {},
   "outputs": [
    {
     "name": "stdout",
     "output_type": "stream",
     "text": [
      "Before calling the function\n",
      "Hello!\n",
      "After calling the function\n"
     ]
    }
   ],
   "source": [
    "def decorator(func):\n",
    "    def polygon():\n",
    "        print(\"Before calling the function\")\n",
    "        func()\n",
    "        print(\"After calling the function\")\n",
    "    return polygon\n",
    "@decorator\n",
    "def say_hello():\n",
    "    print(\"Hello!\")\n",
    "\n",
    "say_hello = say_hello()\n",
    "say_hello"
   ]
  },
  {
   "cell_type": "code",
   "execution_count": 1,
   "id": "fac1981f",
   "metadata": {},
   "outputs": [],
   "source": [
    "from datetime import datetime\n",
    "\n",
    "def not_during_the_night(func):\n",
    "    def wrapper():\n",
    "        if 7 <= datetime.now().hour < 22:\n",
    "            func()\n",
    "        else:\n",
    "            pass  # Hush, the neighbors are asleep\n",
    "    return wrapper\n",
    "\n",
    "@not_during_the_night\n",
    "def say_whee():\n",
    "    print(\"Whee!\")\n",
    "\n",
    "say_whe = say_whee\n",
    "\n",
    "say_whe()"
   ]
  },
  {
   "cell_type": "code",
   "execution_count": 35,
   "id": "12d60b94",
   "metadata": {},
   "outputs": [
    {
     "name": "stdout",
     "output_type": "stream",
     "text": [
      "Creating greeting\n",
      "Creating greeting\n"
     ]
    },
    {
     "data": {
      "text/plain": [
       "'Hello John'"
      ]
     },
     "execution_count": 35,
     "metadata": {},
     "output_type": "execute_result"
    }
   ],
   "source": [
    "def do_twice(func):\n",
    "    def wrapper(*args, **kwargs):\n",
    "        func(*args, **kwargs)\n",
    "        return func(*args, **kwargs)\n",
    "    return wrapper\n",
    "\n",
    "@do_twice\n",
    "def greet():\n",
    "    print('hello')\n",
    "\n",
    "@do_twice\n",
    "def meet(name):\n",
    "    print(f\"Creating greeting\")\n",
    "    return f\"Hello {name}\"\n",
    "\n",
    "meet('John')\n",
    "\n",
    "\n",
    "    "
   ]
  },
  {
   "cell_type": "code",
   "execution_count": 38,
   "id": "74eaa112",
   "metadata": {},
   "outputs": [
    {
     "name": "stdout",
     "output_type": "stream",
     "text": [
      "Help on function meet in module __main__:\n",
      "\n",
      "meet(name)\n",
      "\n"
     ]
    }
   ],
   "source": [
    "import functools\n",
    "\n",
    "def do_twice(func):\n",
    "    @functools.wraps(func)\n",
    "    def wrapper_do_twice(*args, **kwargs):\n",
    "        func(*args, **kwargs)\n",
    "        return func(*args, **kwargs)\n",
    "    return wrapper_do_twice\n",
    "\n",
    "@do_twice\n",
    "def meet(name):\n",
    "    print(f\"Creating greeting\")\n",
    "    return f\"Hello {name}\"\n",
    "\n",
    "help(meet)\n",
    "\n",
    "\n"
   ]
  },
  {
   "cell_type": "markdown",
   "id": "3370318f",
   "metadata": {},
   "source": [
    "#### Understanding Class Decorators"
   ]
  },
  {
   "cell_type": "code",
   "execution_count": 37,
   "id": "1cdbed46",
   "metadata": {},
   "outputs": [],
   "source": [
    "class Circle:\n",
    "    def __init__(self, radius):\n",
    "        self.radius = radius\n",
    "\n",
    "    @property\n",
    "    def radius(self):\n",
    "        return self ._radius\n",
    "\n",
    "    @radius.setter\n",
    "    def radius(self, value):\n",
    "        if value >=0:\n",
    "            self._radius = value\n",
    "        else:\n",
    "            raise ValueError(\"radius must be non-nagative\")        \n",
    "\n",
    "    @property\n",
    "    def area(self):\n",
    "        return self.pi() * self.radius**2\n",
    "\n",
    "    def cylinder_volume(self, height):\n",
    "        return self.area * height\n",
    "\n",
    "    @classmethod\n",
    "    def unit_circle(cls):\n",
    "        return cls(1)\n",
    "\n",
    "    @staticmethod\n",
    "    def pi():\n",
    "        return 3.1415926535\n",
    "    \n"
   ]
  },
  {
   "cell_type": "code",
   "execution_count": 39,
   "id": "bc22d15e",
   "metadata": {},
   "outputs": [
    {
     "data": {
      "text/plain": [
       "50.265482456"
      ]
     },
     "execution_count": 39,
     "metadata": {},
     "output_type": "execute_result"
    }
   ],
   "source": [
    "c = Circle(4)\n",
    "c.area\n"
   ]
  },
  {
   "cell_type": "code",
   "execution_count": null,
   "id": "d8db657c",
   "metadata": {},
   "outputs": [],
   "source": [
    "\n",
    "\n"
   ]
  },
  {
   "cell_type": "markdown",
   "id": "9907781c",
   "metadata": {},
   "source": [
    "#### Understanding @classmethod and @staticmethod"
   ]
  },
  {
   "cell_type": "code",
   "execution_count": 11,
   "id": "18f135ff",
   "metadata": {},
   "outputs": [
    {
     "name": "stdout",
     "output_type": "stream",
     "text": [
      "<class '__main__.Circle'>\n"
     ]
    }
   ],
   "source": [
    "class Circle():\n",
    "    def __init__(self, radius):\n",
    "        self.radius = radius\n",
    "\n",
    "    @staticmethod\n",
    "    def unit_circle():\n",
    "        return Circle(1)\n",
    "\n",
    "class ColoredCircle(Circle):\n",
    "    def __init__(self, radius, color):\n",
    "        super().__init__(radius)\n",
    "        self.color = color\n",
    "    \n",
    "c = ColoredCircle.unit_circle()\n",
    "print(type(c))\n",
    "\n",
    "  \n"
   ]
  },
  {
   "cell_type": "code",
   "execution_count": 18,
   "id": "1d62d40b",
   "metadata": {},
   "outputs": [
    {
     "name": "stdout",
     "output_type": "stream",
     "text": [
      "blue\n"
     ]
    }
   ],
   "source": [
    "class Circle():\n",
    "    def __init__(self, radius):\n",
    "        self.radius = radius\n",
    "    \n",
    "    @classmethod\n",
    "    def unit_circle(cls):\n",
    "        return cls(1, \"blue\")\n",
    "\n",
    "class ColoredCircle(Circle):\n",
    "    def __init__(self, radius, color=\"red\"):\n",
    "        super().__init__(radius)\n",
    "        self.color = color\n",
    "    \n",
    "c = ColoredCircle.unit_circle()\n",
    "print(c.color)"
   ]
  },
  {
   "cell_type": "markdown",
   "id": "3103c3d7",
   "metadata": {},
   "source": [
    "#### Overview of Data Class Builders"
   ]
  },
  {
   "cell_type": "code",
   "execution_count": null,
   "id": "e53caf23",
   "metadata": {},
   "outputs": [
    {
     "data": {
      "text/plain": [
       "False"
      ]
     },
     "execution_count": 40,
     "metadata": {},
     "output_type": "execute_result"
    }
   ],
   "source": [
    "class Coodinates:\n",
    "    def __init__(self, lat, lon):\n",
    "        self.lat = lat\n",
    "        self.lon = lon\n",
    "\n",
    "Nigeria = Coodinates(9.0820, 8.6753)\n",
    "\n",
    "Nigeria\n",
    "\n",
    "Nigeria == Coodinates(9.0820, 8.6753)\n"
   ]
  },
  {
   "cell_type": "code",
   "execution_count": 42,
   "id": "0bdb0a71",
   "metadata": {},
   "outputs": [
    {
     "data": {
      "text/plain": [
       "Coordinates(lat=9.082, lon=8.6753)"
      ]
     },
     "execution_count": 42,
     "metadata": {},
     "output_type": "execute_result"
    }
   ],
   "source": [
    "from collections import namedtuple\n",
    "Coodinates = namedtuple('Coordinates', 'lat lon')\n",
    "\n",
    "Nigeria = Coodinates(9.0820, 8.6753)\n",
    "\n",
    "Nigeria"
   ]
  },
  {
   "cell_type": "code",
   "execution_count": 6,
   "id": "f982cc27",
   "metadata": {},
   "outputs": [],
   "source": [
    "from typing import NamedTuple\n",
    "\n",
    "coordinate = NamedTuple('Coordinate', [('lat',float), ('lan', float)])\n",
    "\n",
    "class Coordinates(NamedTuple):\n",
    "    lat: float\n",
    "    lon: float\n",
    "\n",
    "    # def __str__(self):\n",
    "    #     ns =\"N\" if self.lat >=0 else \"S\"\n",
    "    #     we = \"E\" if self.lon >0 else \"W\"\n",
    "    #     return f'{abs(self.lat):.1f}°{ns}, {abs(self.lon):.1f}°{we}'\n",
    "\n",
    "\n"
   ]
  },
  {
   "cell_type": "code",
   "execution_count": null,
   "id": "0e64d003",
   "metadata": {},
   "outputs": [],
   "source": [
    "from dataclasses import dataclass\n",
    "\n",
    "@dataclass(frozen=True)\n",
    "class Coodinate:\n",
    "    lat: float\n",
    "    lon: float \n",
    "\n",
    "    def __str__(self):\n",
    "        ns =\"N\" if self.lat >=0 else \"S\"\n",
    "        we = \"E\" if self.lon >0 else \"W\"\n",
    "        return f'{abs(self.lat):.1f}°{ns}, {abs(self.lon):.1f}°{we}'\n"
   ]
  },
  {
   "cell_type": "markdown",
   "id": "5e3d1d08",
   "metadata": {},
   "source": [
    "#### Type Hints"
   ]
  },
  {
   "cell_type": "code",
   "execution_count": 8,
   "id": "1ad43cf5",
   "metadata": {},
   "outputs": [
    {
     "name": "stdout",
     "output_type": "stream",
     "text": [
      "Coordinates(lat='nil', lon=None)\n"
     ]
    }
   ],
   "source": [
    "trash = Coordinates(lat=\"nil\", lon= None)\n",
    "print(trash)"
   ]
  },
  {
   "cell_type": "code",
   "execution_count": null,
   "id": "9c52a66e",
   "metadata": {},
   "outputs": [],
   "source": []
  }
 ],
 "metadata": {
  "kernelspec": {
   "display_name": "Python 3",
   "language": "python",
   "name": "python3"
  },
  "language_info": {
   "codemirror_mode": {
    "name": "ipython",
    "version": 3
   },
   "file_extension": ".py",
   "mimetype": "text/x-python",
   "name": "python",
   "nbconvert_exporter": "python",
   "pygments_lexer": "ipython3",
   "version": "3.10.7"
  }
 },
 "nbformat": 4,
 "nbformat_minor": 5
}
