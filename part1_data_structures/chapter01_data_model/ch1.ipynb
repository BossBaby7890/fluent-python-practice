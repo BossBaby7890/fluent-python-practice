{
 "cells": [
  {
   "cell_type": "markdown",
   "id": "6ab52e61",
   "metadata": {},
   "source": [
    "### A Pythonic Card Deck"
   ]
  },
  {
   "cell_type": "code",
   "execution_count": 10,
   "id": "071581ae",
   "metadata": {},
   "outputs": [],
   "source": [
    "import collections \n",
    "\n",
    "# Namedtuple helps construct a simple class\n",
    "Card = collections.namedtuple('Card', ['rank', 'suit'])\n",
    "\n",
    "class FrenchDeck:\n",
    "    ranks = [str(n) for n in range(2,11)] + list('JQKA')\n",
    "    suits = 'spades diamonds clubs hearts'.split()\n",
    "\n",
    "    def __init__(self):\n",
    "        self._cards = [Card(rank, suit) for suit in self.suits \n",
    "                                        for rank in self.ranks]\n",
    "    \n",
    "    def __len__(self):\n",
    "        return len(self._cards)\n",
    "    \n",
    "    def __getitem__(self, position):\n",
    "        return self._cards[position]"
   ]
  },
  {
   "cell_type": "code",
   "execution_count": null,
   "id": "3ba01528",
   "metadata": {},
   "outputs": [
    {
     "name": "stdout",
     "output_type": "stream",
     "text": [
      "Card(rank='7', suit='diamonds')\n",
      "52\n",
      "Card(rank='5', suit='clubs')\n"
     ]
    },
    {
     "data": {
      "text/plain": [
       "True"
      ]
     },
     "execution_count": 13,
     "metadata": {},
     "output_type": "execute_result"
    }
   ],
   "source": [
    "beer_card = Card('7', 'diamonds')\n",
    "print(beer_card) \n",
    "\n",
    "deck = FrenchDeck()\n",
    "print(len(deck))\n",
    "\n",
    "from random import choice\n",
    "print(choice(deck))\n",
    "\n",
    "Card('Q', 'hearts') in deck"
   ]
  },
  {
   "cell_type": "markdown",
   "id": "797bb205",
   "metadata": {},
   "source": [
    "### Emulating Numeric Types"
   ]
  },
  {
   "cell_type": "code",
   "execution_count": 25,
   "id": "21da861e",
   "metadata": {},
   "outputs": [
    {
     "name": "stdout",
     "output_type": "stream",
     "text": [
      "Vector(4, 5)\n",
      "Vector(6, 12)\n"
     ]
    }
   ],
   "source": [
    "import math\n",
    "\n",
    "class Vector:\n",
    "    def __init__(self,x=0, y=0):\n",
    "        self.x = x\n",
    "        self.y = y\n",
    "    def __repr__(self):\n",
    "        return f'Vector({self.x!r}, {self.y!r})'\n",
    "    def __abs__(self):\n",
    "        return math.hypot(self.x, self.y)\n",
    "    def __bool__(self):\n",
    "        return bool(abs(self))\n",
    "    def __add__(self, other):\n",
    "        x = self.x + other.x\n",
    "        y = self.y + other.y\n",
    "        return Vector(x, y)\n",
    "    def __mul__(self, scalar):\n",
    "        return Vector(self.x * scalar, self.y * scalar)\n",
    "v1 = Vector(2,4)\n",
    "v2 = Vector(2,1)\n",
    "print(v1 + v2)\n",
    "print(v1 * 3)\n",
    "\n",
    "    \n"
   ]
  },
  {
   "cell_type": "markdown",
   "id": "cd63c751",
   "metadata": {},
   "source": [
    "#### Py Cookbook Ch1"
   ]
  },
  {
   "cell_type": "code",
   "execution_count": null,
   "id": "05e6eb52",
   "metadata": {},
   "outputs": [
    {
     "data": {
      "text/plain": [
       "['Dave', 'dave@example.com']"
      ]
     },
     "execution_count": 28,
     "metadata": {},
     "output_type": "execute_result"
    }
   ],
   "source": [
    "record = ('Dave', 'dave@example.com' , '773-555-1212', '847-555-1212')\n",
    "name, email, *phone_numbers = record\n",
    "name"
   ]
  },
  {
   "cell_type": "code",
   "execution_count": 35,
   "id": "7f12d575",
   "metadata": {},
   "outputs": [
    {
     "name": "stdout",
     "output_type": "stream",
     "text": [
      "foo 1 2\n",
      "bar hello\n",
      "foo 3 4\n"
     ]
    }
   ],
   "source": [
    "records = [\n",
    "    ('foo', 1, 2),\n",
    "    ('bar', 'hello'),\n",
    "    ('foo', 3, 4),]\n",
    "def do_foo(x, y):\n",
    "    print('foo', x, y)\n",
    "def do_bar(s):\n",
    "    print('bar', s)\n",
    "for tag, *args in records:\n",
    "    if tag == 'foo':\n",
    "        do_foo(*args)\n",
    "    elif tag == 'bar':\n",
    "        do_bar(*args)\n"
   ]
  },
  {
   "cell_type": "code",
   "execution_count": 38,
   "id": "a78858b7",
   "metadata": {},
   "outputs": [
    {
     "data": {
      "text/plain": [
       "'/var/empty'"
      ]
     },
     "execution_count": 38,
     "metadata": {},
     "output_type": "execute_result"
    }
   ],
   "source": [
    "line = 'nobody:*:-2:-2:Unprivileged User:/var/empty:/usr/bin/false'\n",
    "uname, *fields, homedir, sh = line.split(':')\n",
    "uname\n",
    "homedir\n"
   ]
  },
  {
   "cell_type": "code",
   "execution_count": null,
   "id": "256bc0df",
   "metadata": {},
   "outputs": [],
   "source": []
  }
 ],
 "metadata": {
  "kernelspec": {
   "display_name": "Python 3",
   "language": "python",
   "name": "python3"
  },
  "language_info": {
   "codemirror_mode": {
    "name": "ipython",
    "version": 3
   },
   "file_extension": ".py",
   "mimetype": "text/x-python",
   "name": "python",
   "nbconvert_exporter": "python",
   "pygments_lexer": "ipython3",
   "version": "3.10.7"
  }
 },
 "nbformat": 4,
 "nbformat_minor": 5
}
